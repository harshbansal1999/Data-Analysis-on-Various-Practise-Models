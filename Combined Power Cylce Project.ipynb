{
 "cells": [
  {
   "cell_type": "code",
   "execution_count": 3,
   "metadata": {
    "collapsed": true
   },
   "outputs": [],
   "source": [
    "import numpy as np"
   ]
  },
  {
   "cell_type": "code",
   "execution_count": 4,
   "metadata": {
    "collapsed": true
   },
   "outputs": [],
   "source": [
    "def step_gradient(points,Y_train, learning_rate, m):\n",
    "    m_slope = np.zeros(5)\n",
    "    new_m = np.zeros(5)\n",
    "    M=len(points)\n",
    "    s=0\n",
    "    for i in range(M):\n",
    "        s=0\n",
    "        y=Y_train[i]\n",
    "        for j in range(5):\n",
    "            s+=m[j]*points[i][j]\n",
    "        for k in range(5):\n",
    "            m_slope[k] += (-2/M)*(y-s)*points[i,k]\n",
    "    for i in range(5):\n",
    "        new_m[i] = m[i]-learning_rate*m_slope[i]\n",
    "    return new_m"
   ]
  },
  {
   "cell_type": "code",
   "execution_count": 5,
   "metadata": {
    "collapsed": true
   },
   "outputs": [],
   "source": [
    "def cost(points,Y_trains,  m):\n",
    "    total_cost = 0\n",
    "    M = len(points)\n",
    "    s=0\n",
    "    for i in range(M):\n",
    "        s=0\n",
    "        y=Y_trains[i]\n",
    "        for j in range(5):\n",
    "            s+=m[j]*points[i,j]\n",
    "        total_cost+=(1/M)*((y-s)**2)\n",
    "        s=0\n",
    "    return total_cost\n",
    "            "
   ]
  },
  {
   "cell_type": "code",
   "execution_count": 6,
   "metadata": {
    "collapsed": true
   },
   "outputs": [],
   "source": [
    "def gd(points, Y_train, learning_rate, num_iterations):\n",
    "    m=np.zeros(5)\n",
    "    for i in range(num_iterations):\n",
    "        m=step_gradient(points,Y_train,learning_rate,m)\n",
    "        #print(i, \" Cost: \", cost(points, Y_train,m))\n",
    "    return m"
   ]
  },
  {
   "cell_type": "code",
   "execution_count": 27,
   "metadata": {
    "collapsed": true
   },
   "outputs": [],
   "source": [
    "def run():\n",
    "    data = np.genfromtxt('cp_train.csv', delimiter=',')\n",
    "    X_train = data[:,:-1]\n",
    "    Y_train = data[:,-1]\n",
    "    print(Y_train.shape)\n",
    "    b=np.ones(7176, int).reshape(-1,1)\n",
    "    \n",
    "    X_train=np.append(X_train ,b,axis=1)\n",
    "    learning_rate = 0.0000001\n",
    "    num_iterations = 100\n",
    "    m= gd(X_train,Y_train, learning_rate, num_iterations)\n",
    "    \n",
    "    X_test = np.genfromtxt('cp_test.csv', delimiter=',')\n",
    "    a=np.ones(2392,int).reshape(-1,1)\n",
    "    X_test = np.append(X_test,a,axis=1)\n",
    "    Y_pred = np.zeros(len(X_test))\n",
    "    s=0\n",
    "    for i in range(len(X_test)):\n",
    "        s=0\n",
    "        for j in range(5):\n",
    "            s+= m[j]*X_test[i,j]\n",
    "        Y_pred[i] =s\n",
    "    np.savetxt('cp_gradient_Descent_123.csv', Y_pred,fmt=\"%.10f\") \n",
    "    #test()\n",
    "    #print(Y_pred.shape)\n",
    "    #print(m)"
   ]
  },
  {
   "cell_type": "code",
   "execution_count": 28,
   "metadata": {
    "scrolled": true
   },
   "outputs": [
    {
     "name": "stdout",
     "output_type": "stream",
     "text": [
      "(7176,)\n"
     ]
    }
   ],
   "source": [
    "run()\n"
   ]
  }
 ],
 "metadata": {
  "kernelspec": {
   "display_name": "Python 3",
   "language": "python",
   "name": "python3"
  },
  "language_info": {
   "codemirror_mode": {
    "name": "ipython",
    "version": 3
   },
   "file_extension": ".py",
   "mimetype": "text/x-python",
   "name": "python",
   "nbconvert_exporter": "python",
   "pygments_lexer": "ipython3",
   "version": "3.6.3"
  }
 },
 "nbformat": 4,
 "nbformat_minor": 2
}
