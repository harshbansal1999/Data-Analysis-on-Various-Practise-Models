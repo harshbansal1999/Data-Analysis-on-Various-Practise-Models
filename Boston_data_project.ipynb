{
 "cells": [
  {
   "cell_type": "code",
   "execution_count": 57,
   "metadata": {
    "collapsed": true
   },
   "outputs": [],
   "source": [
    "import numpy as np\n",
    "from sklearn import datasets\n",
    "from sklearn.linear_model import LinearRegression\n"
   ]
  },
  {
   "cell_type": "code",
   "execution_count": 58,
   "metadata": {
    "collapsed": true
   },
   "outputs": [],
   "source": [
    "boston_train=np.loadtxt('0000000000002417_training_boston_x_y_train.csv',delimiter=\",\")\n"
   ]
  },
  {
   "cell_type": "code",
   "execution_count": 59,
   "metadata": {},
   "outputs": [
    {
     "data": {
      "text/plain": [
       "(379, 13)"
      ]
     },
     "execution_count": 59,
     "metadata": {},
     "output_type": "execute_result"
    }
   ],
   "source": [
    "boston_train = np.delete(boston_train, 8, 1)\n",
    "boston_train.shape"
   ]
  },
  {
   "cell_type": "code",
   "execution_count": 60,
   "metadata": {
    "collapsed": true
   },
   "outputs": [],
   "source": [
    "boston_train = np.insert(boston_train,12,boston_train[:,5]**2,axis=1)\n",
    "boston_train = np.insert(boston_train,12,boston_train[:,3]**2,axis=1)\n",
    "#boston_train = np.insert(boston_train,12,boston_train[:,7]**2,axis=1)\n",
    "boston_train = np.insert(boston_train,12,boston_train[:,11]**2,axis=1)\n",
    "boston_train = np.insert(boston_train,12,boston_train[:,10]**2,axis=1)\n",
    "boston_train = np.insert(boston_train,12,boston_train[:,1]**2,axis=1)\n",
    "boston_train = np.insert(boston_train,12,(boston_train[:,2]*boston_train[:,5]),axis=1)\n",
    "boston_train = np.insert(boston_train,12,(boston_train[:,1]*boston_train[:,5]),axis=1)\n",
    "boston_train = np.insert(boston_train,12,(boston_train[:,10]*boston_train[:,5]),axis=1)\n",
    "boston_train = np.insert(boston_train,12,(boston_train[:,10]*boston_train[:,5])**2,axis=1)\n",
    "boston_train = np.insert(boston_train,12,(boston_train[:,1]*boston_train[:,5])**2,axis=1)\n",
    "boston_train = np.insert(boston_train,12,(boston_train[:,11]*boston_train[:,10]),axis=1)\n",
    "boston_train = np.insert(boston_train,12,(boston_train[:,8]*boston_train[:,1])**2,axis=1)\n",
    "boston_train = np.insert(boston_train,12,(boston_train[:,9]*boston_train[:,1])**2,axis=1)\n",
    "boston_train = np.insert(boston_train,12,(boston_train[:,9]*boston_train[:,1]),axis=1)\n",
    "\n",
    "boston_train = np.insert(boston_train,12,(boston_train[:,8]*boston_train[:,5]*boston_train[:,6]),axis=1)\n",
    "boston_train = np.insert(boston_train,12,(boston_train[:,9]*boston_train[:,5]*boston_train[:,6]),axis=1)\n",
    "boston_train = np.insert(boston_train,12,(boston_train[:,9]*boston_train[:,5]*boston_train[:,8]),axis=1)\n",
    "boston_train = np.insert(boston_train,12,(boston_train[:,9]*boston_train[:,10]*boston_train[:,8]),axis=1)\n",
    "boston_train = np.insert(boston_train,12,(boston_train[:,9]*boston_train[:,5]*boston_train[:,8])**2,axis=1)\n",
    "boston_train = np.insert(boston_train,12,(boston_train[:,5]*boston_train[:,3]*boston_train[:,6])**2,axis=1)\n",
    "boston_train = np.insert(boston_train,12,(boston_train[:,8]*boston_train[:,3]*boston_train[:,9])**2,axis=1)\n",
    "boston_train = np.insert(boston_train,12,boston_train[:,6]*boston_train[:,5],axis=1)\n",
    "boston_train = np.insert(boston_train,12,boston_train[:,8]**2,axis=1)\n",
    "boston_train = np.insert(boston_train,12,boston_train[:,8]*boston_train[:,5],axis=1)\n",
    "boston_train = np.insert(boston_train,12,boston_train[:,6]*boston_train[:,8],axis=1)\n",
    "boston_train = np.insert(boston_train,12,boston_train[:,9]**2,axis=1)\n",
    "\n",
    "boston_train = np.insert(boston_train,12,(boston_train[:,9]*boston_train[:,2]),axis=1)\n",
    "boston_train = np.insert(boston_train,12,(boston_train[:,0]*boston_train[:,5]),axis=1)\n",
    "boston_train = np.insert(boston_train,12,(boston_train[:,0]*boston_train[:,10]),axis=1)\n",
    "boston_train = np.insert(boston_train,12,(boston_train[:,0]*boston_train[:,6])**2,axis=1)\n",
    "boston_train = np.insert(boston_train,12,(boston_train[:,0]*boston_train[:,5])**2,axis=1)\n",
    "boston_train = np.insert(boston_train,12,boston_train[:,9]*boston_train[:,5],axis=1)\n",
    "boston_train = np.insert(boston_train,12,boston_train[:,6]*boston_train[:,9],axis=1)\n",
    "boston_train = np.insert(boston_train,12,boston_train[:,0]**2,axis=1)\n"
   ]
  },
  {
   "cell_type": "code",
   "execution_count": 61,
   "metadata": {},
   "outputs": [
    {
     "data": {
      "text/plain": [
       "LinearRegression(copy_X=True, fit_intercept=True, n_jobs=1, normalize=False)"
      ]
     },
     "execution_count": 61,
     "metadata": {},
     "output_type": "execute_result"
    }
   ],
   "source": [
    "alg = LinearRegression()\n",
    "alg.fit(boston_train[:,:boston_train.shape[1]-1],boston_train[:,boston_train.shape[1]-1])"
   ]
  },
  {
   "cell_type": "code",
   "execution_count": 62,
   "metadata": {
    "collapsed": true
   },
   "outputs": [],
   "source": [
    "x_test = np.loadtxt(\"0000000000002417_test_boston_x_test.csv\",delimiter=\",\")\n",
    "x_test = np.delete(x_test, 8, 1)\n",
    "   "
   ]
  },
  {
   "cell_type": "code",
   "execution_count": 63,
   "metadata": {
    "collapsed": true
   },
   "outputs": [],
   "source": [
    "x_test = np.insert(x_test,12,x_test[:,5]**2,axis=1)\n",
    "x_test = np.insert(x_test,12,x_test[:,3]**2,axis=1)\n",
    "x_test = np.insert(x_test,12,x_test[:,11]**2,axis=1)\n",
    "x_test = np.insert(x_test,12,x_test[:,10]**2,axis=1)\n",
    "x_test = np.insert(x_test,12,x_test[:,1]**2,axis=1)\n",
    "x_test = np.insert(x_test,12,(x_test[:,2]*x_test[:,5]),axis=1)\n",
    "x_test = np.insert(x_test,12,(x_test[:,1]*x_test[:,5]),axis=1)\n",
    "x_test = np.insert(x_test,12,(x_test[:,10]*x_test[:,5]),axis=1)\n",
    "x_test = np.insert(x_test,12,(x_test[:,10]*x_test[:,5])**2,axis=1)\n",
    "x_test = np.insert(x_test,12,(x_test[:,1]*x_test[:,5])**2,axis=1)\n",
    "x_test = np.insert(x_test,12,(x_test[:,11]*x_test[:,10]),axis=1)\n",
    "x_test = np.insert(x_test,12,(x_test[:,8]*x_test[:,1])**2,axis=1)\n",
    "x_test = np.insert(x_test,12,(x_test[:,9]*x_test[:,1])**2,axis=1)\n",
    "x_test = np.insert(x_test,12,(x_test[:,9]*x_test[:,1]),axis=1)"
   ]
  },
  {
   "cell_type": "code",
   "execution_count": 64,
   "metadata": {},
   "outputs": [
    {
     "data": {
      "text/plain": [
       "(127, 46)"
      ]
     },
     "execution_count": 64,
     "metadata": {},
     "output_type": "execute_result"
    }
   ],
   "source": [
    "x_test = np.insert(x_test,12,(x_test[:,8]*x_test[:,5]*x_test[:,6]),axis=1)\n",
    "x_test = np.insert(x_test,12,(x_test[:,9]*x_test[:,5]*x_test[:,6]),axis=1)\n",
    "x_test = np.insert(x_test,12,(x_test[:,9]*x_test[:,5]*x_test[:,8]),axis=1)\n",
    "x_test = np.insert(x_test,12,(x_test[:,9]*x_test[:,10]*x_test[:,8]),axis=1)\n",
    "x_test = np.insert(x_test,12,(x_test[:,9]*x_test[:,5]*x_test[:,8])**2,axis=1)\n",
    "x_test = np.insert(x_test,12,(x_test[:,5]*x_test[:,3]*x_test[:,6])**2,axis=1)\n",
    "x_test = np.insert(x_test,12,(x_test[:,8]*x_test[:,3]*x_test[:,9])**2,axis=1)\n",
    "x_test = np.insert(x_test,12,x_test[:,6]*x_test[:,5],axis=1)\n",
    "x_test = np.insert(x_test,12,x_test[:,8]**2,axis=1)\n",
    "x_test = np.insert(x_test,12,x_test[:,8]*x_test[:,5],axis=1)\n",
    "x_test = np.insert(x_test,12,x_test[:,6]*x_test[:,8],axis=1)\n",
    "x_test = np.insert(x_test,12,x_test[:,9]**2,axis=1)\n",
    "x_test = np.insert(x_test,12,(x_test[:,9]*x_test[:,2]),axis=1)\n",
    "x_test = np.insert(x_test,12,(x_test[:,0]*x_test[:,5]),axis=1)\n",
    "x_test = np.insert(x_test,12,(x_test[:,0]*x_test[:,10]),axis=1)\n",
    "x_test = np.insert(x_test,12,(x_test[:,0]*x_test[:,6])**2,axis=1)\n",
    "x_test = np.insert(x_test,12,(x_test[:,0]*x_test[:,5])**2,axis=1)\n",
    "x_test = np.insert(x_test,12,x_test[:,9]*x_test[:,5],axis=1)\n",
    "x_test = np.insert(x_test,12,x_test[:,6]*x_test[:,9],axis=1)\n",
    "x_test = np.insert(x_test,12,x_test[:,0]**2,axis=1)\n",
    "x_test.shape\n"
   ]
  },
  {
   "cell_type": "code",
   "execution_count": 65,
   "metadata": {
    "collapsed": true
   },
   "outputs": [],
   "source": [
    "y_pred = alg.predict(x_test)\n",
    "np.savetxt('y_pred.csv',y_pred,delimiter =\",\",fmt = \"%.5f\")"
   ]
  },
  {
   "cell_type": "code",
   "execution_count": 12,
   "metadata": {},
   "outputs": [
    {
     "data": {
      "text/plain": [
       "array([-18.66184271,  42.43732111,  23.33858977,  42.71166806,\n",
       "        22.81484069, -11.81169402,  40.04990343,  33.16093627,\n",
       "        21.66579393,  31.07712239,  36.15593961,  20.13374618,\n",
       "        34.47913312,  27.75163905,  46.04308068,  42.70949796,\n",
       "        36.81363996,  36.34178029,  38.0743437 ,  40.92948953,\n",
       "        24.22711314,  18.78044524,  30.39728052,  52.75271233,\n",
       "        58.68744735,  -5.65714102,  25.34449506,  48.41326672,\n",
       "        26.1906495 ,  39.21465676,  20.30687794,  34.7994989 ,\n",
       "        26.33440009,  35.8769106 ,  -9.55616942,  34.46721569,\n",
       "        41.06498232,  19.76586267,  39.70791753, -19.79006196,\n",
       "       -22.70629495,  44.23818703,  53.55699974,  12.04047617,\n",
       "         4.27178896, -27.9890134 ,  48.12651806,  29.79621434,\n",
       "        59.62521782,  -4.18460065,  -4.93352024,  65.19308322,\n",
       "        -3.57273571,  20.56856023,  18.21595697,  30.96993752,\n",
       "        22.13544912,  31.52567598,  14.67240575,  -3.62622569,\n",
       "       -15.68817764,  33.49357772,  33.91433233,  35.54871833,\n",
       "        -4.98299723,  -7.90830259,  42.66967008,  -4.63613469,\n",
       "        31.4962571 ,  10.7941372 ,  39.85753895,  20.77923249,\n",
       "         6.95042326, -24.02270868,  61.66871781,  37.62302474,\n",
       "        43.46966323,  41.03389493,  -7.97149087,  59.30181375,\n",
       "         0.95944957,  21.73102849,  35.04833144,  15.0343332 ,\n",
       "        -2.67070167,  47.50680867,  43.32843925, -21.86708051,\n",
       "        16.15528904,  -0.84922119,  32.75979895,  19.17376959,\n",
       "        18.69137606, -11.95792205,  25.66475221,  19.81157115,\n",
       "        66.00846839,  12.78516025,  55.69443511,  46.43462936,\n",
       "        33.45531116,  32.30270548,  36.08943117,  41.5571978 ,\n",
       "        -7.59454586,  35.47608675,  35.84878554,  64.08269784,\n",
       "        38.74705662,  -9.30162524,  51.99491447, -31.36495903,\n",
       "        11.5111125 ,  -8.40515707,  50.13978459,  16.01342231,\n",
       "        25.56541285,  33.65518356,  37.09741547,   8.64182944,\n",
       "        14.51266447,  51.23333291,  28.86157398,  34.62214414,\n",
       "        44.94686412,  18.9343444 ,   0.46889695])"
      ]
     },
     "execution_count": 12,
     "metadata": {},
     "output_type": "execute_result"
    }
   ],
   "source": []
  },
  {
   "cell_type": "code",
   "execution_count": 13,
   "metadata": {
    "collapsed": true
   },
   "outputs": [],
   "source": []
  }
 ],
 "metadata": {
  "kernelspec": {
   "display_name": "Python 3",
   "language": "python",
   "name": "python3"
  },
  "language_info": {
   "codemirror_mode": {
    "name": "ipython",
    "version": 3
   },
   "file_extension": ".py",
   "mimetype": "text/x-python",
   "name": "python",
   "nbconvert_exporter": "python",
   "pygments_lexer": "ipython3",
   "version": "3.6.3"
  }
 },
 "nbformat": 4,
 "nbformat_minor": 2
}
